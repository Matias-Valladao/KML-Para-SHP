{
 "cells": [
  {
   "cell_type": "markdown",
   "metadata": {},
   "source": [
    "Converter KML para SHP"
   ]
  },
  {
   "cell_type": "code",
   "execution_count": 7,
   "metadata": {},
   "outputs": [],
   "source": [
    "import os\n",
    "import subprocess\n",
    "\n",
    "# Caminho para o diretório que contém os arquivos KML (lembrar de trocar a Barra \"\\\" para \"/\") \n",
    "# (Evitar caminhos muito longos, é bom fazer um caminho curto, por exemplo uma pasta no Dasktop)\n",
    "kml_dir = \"C:/Users/Desktop/xx001\"\n",
    "\n",
    "# Caminho para o diretório onde os shapefiles serão salvos\n",
    "shp_dir = \"C:/Users/Desktop/xx001\"\n",
    "\n",
    "# Loop que percorre todos os arquivos KML no diretório\n",
    "for kml_file in os.listdir(kml_dir):\n",
    "    if kml_file.endswith(\".kml\"):\n",
    "        # Gerar o nome do shapefile de saída\n",
    "        shp_file = kml_file.replace(\".kml\", \".shp\")\n",
    "        # Use o comando ogr2ogr para converter KML em shapefile\n",
    "        subprocess.call([\"ogr2ogr\", \"-f\", \"ESRI Shapefile\", os.path.join(shp_dir, shp_file), os.path.join(kml_dir, kml_file)])\n",
    "\n",
    "\n"
   ]
  },
  {
   "cell_type": "markdown",
   "metadata": {},
   "source": [
    "Converter SHP para KML"
   ]
  },
  {
   "cell_type": "code",
   "execution_count": null,
   "metadata": {},
   "outputs": [],
   "source": [
    "import os\n",
    "import subprocess\n",
    "\n",
    "# Caminho para o diretório que contém os arquivos SHP\n",
    "shp_dir = \"C:/Users/Desktop/xx001\"\n",
    "\n",
    "# Caminho para o diretório onde os arquivos KML serão salvos\n",
    "kml_dir = \"C:/Users/Desktop/xx001\"\n",
    "\n",
    "# Loop que percorre todos os arquivos SHP no diretório\n",
    "for shp_file in os.listdir(shp_dir):\n",
    "    if shp_file.endswith(\".shp\"):\n",
    "        # Gerar o nome do arquivo KML de saída\n",
    "        kml_file = shp_file.replace(\".shp\", \".kml\")\n",
    "        # Use o comando ogr2ogr para converter SHP em KML\n",
    "        subprocess.call([\"ogr2ogr\", \"-f\", \"KML\", os.path.join(kml_dir, kml_file), os.path.join(shp_dir, shp_file)])\n"
   ]
  },
  {

   "file_extension": ".py",
   "mimetype": "text/x-python",
   "name": "python",
   "nbconvert_exporter": "python",
   "pygments_lexer": "ipython3",
   "version": "3.12.3"
  }
 },
 "nbformat": 4,
 "nbformat_minor": 2
}
